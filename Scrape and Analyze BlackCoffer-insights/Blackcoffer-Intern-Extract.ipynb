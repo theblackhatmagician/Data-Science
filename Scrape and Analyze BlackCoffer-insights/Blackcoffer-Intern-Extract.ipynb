{
 "cells": [
  {
   "cell_type": "code",
   "execution_count": 1,
   "id": "d5ef42a6",
   "metadata": {},
   "outputs": [],
   "source": [
    "import requests\n",
    "import pandas as pd\n",
    "from bs4 import BeautifulSoup\n",
    "import warnings\n",
    "warnings.filterwarnings('ignore')"
   ]
  },
  {
   "cell_type": "code",
   "execution_count": 2,
   "id": "c5143218",
   "metadata": {},
   "outputs": [],
   "source": [
    "urls = pd.read_excel(r\"./Input.xlsx\")"
   ]
  },
  {
   "cell_type": "code",
   "execution_count": 3,
   "id": "901f4e30",
   "metadata": {},
   "outputs": [
    {
     "data": {
      "text/html": [
       "<div>\n",
       "<style scoped>\n",
       "    .dataframe tbody tr th:only-of-type {\n",
       "        vertical-align: middle;\n",
       "    }\n",
       "\n",
       "    .dataframe tbody tr th {\n",
       "        vertical-align: top;\n",
       "    }\n",
       "\n",
       "    .dataframe thead th {\n",
       "        text-align: right;\n",
       "    }\n",
       "</style>\n",
       "<table border=\"1\" class=\"dataframe\">\n",
       "  <thead>\n",
       "    <tr style=\"text-align: right;\">\n",
       "      <th></th>\n",
       "      <th>URL_ID</th>\n",
       "      <th>URL</th>\n",
       "    </tr>\n",
       "  </thead>\n",
       "  <tbody>\n",
       "    <tr>\n",
       "      <th>0</th>\n",
       "      <td>1.0</td>\n",
       "      <td>https://insights.blackcoffer.com/is-telehealth...</td>\n",
       "    </tr>\n",
       "    <tr>\n",
       "      <th>1</th>\n",
       "      <td>2.0</td>\n",
       "      <td>https://insights.blackcoffer.com/how-telehealt...</td>\n",
       "    </tr>\n",
       "    <tr>\n",
       "      <th>2</th>\n",
       "      <td>3.0</td>\n",
       "      <td>https://insights.blackcoffer.com/is-telemedici...</td>\n",
       "    </tr>\n",
       "    <tr>\n",
       "      <th>3</th>\n",
       "      <td>4.0</td>\n",
       "      <td>https://insights.blackcoffer.com/is-telehealth...</td>\n",
       "    </tr>\n",
       "    <tr>\n",
       "      <th>4</th>\n",
       "      <td>5.0</td>\n",
       "      <td>https://insights.blackcoffer.com/how-people-di...</td>\n",
       "    </tr>\n",
       "  </tbody>\n",
       "</table>\n",
       "</div>"
      ],
      "text/plain": [
       "   URL_ID                                                URL\n",
       "0     1.0  https://insights.blackcoffer.com/is-telehealth...\n",
       "1     2.0  https://insights.blackcoffer.com/how-telehealt...\n",
       "2     3.0  https://insights.blackcoffer.com/is-telemedici...\n",
       "3     4.0  https://insights.blackcoffer.com/is-telehealth...\n",
       "4     5.0  https://insights.blackcoffer.com/how-people-di..."
      ]
     },
     "execution_count": 3,
     "metadata": {},
     "output_type": "execute_result"
    }
   ],
   "source": [
    "urls.head()"
   ]
  },
  {
   "cell_type": "markdown",
   "id": "c2641de4",
   "metadata": {},
   "source": [
    "### Access One page to Evaluate "
   ]
  },
  {
   "cell_type": "code",
   "execution_count": 4,
   "id": "cea4f534",
   "metadata": {},
   "outputs": [],
   "source": [
    "header = {'User-Agent' : 'Mozilla/5.0 (X11; Linux x86_64) AppleWebKit/537.36 (KHTML, like Gecko) Chrome/103.0.0.0 Safari/537.36'}"
   ]
  },
  {
   "cell_type": "code",
   "execution_count": 5,
   "id": "1048c218",
   "metadata": {},
   "outputs": [],
   "source": [
    "#Get 1st URL\n",
    "for i in urls['URL']:\n",
    "    page = requests.get(i,headers=header)\n",
    "    break"
   ]
  },
  {
   "cell_type": "code",
   "execution_count": 6,
   "id": "1ef97ecc",
   "metadata": {},
   "outputs": [],
   "source": [
    "soup = BeautifulSoup(page.text)"
   ]
  },
  {
   "cell_type": "code",
   "execution_count": 7,
   "id": "508b79e9",
   "metadata": {},
   "outputs": [],
   "source": [
    "myhead = soup.find(\"h1\",{\"class\": \"entry-title\"})"
   ]
  },
  {
   "cell_type": "code",
   "execution_count": 8,
   "id": "85f1086d",
   "metadata": {},
   "outputs": [
    {
     "data": {
      "text/plain": [
       "'Is telehealth the future of healthcare?'"
      ]
     },
     "execution_count": 8,
     "metadata": {},
     "output_type": "execute_result"
    }
   ],
   "source": [
    "#Head Content\n",
    "myhead.text"
   ]
  },
  {
   "cell_type": "code",
   "execution_count": 9,
   "id": "9b03addb",
   "metadata": {},
   "outputs": [],
   "source": [
    "#Main Content\n",
    "mydivs = soup.find(\"div\", {\"class\": \"td-post-content\"}).findAll('p')"
   ]
  },
  {
   "cell_type": "code",
   "execution_count": 10,
   "id": "a7d066c2",
   "metadata": {},
   "outputs": [
    {
     "data": {
      "text/plain": [
       "[<p>Covid-19 has paved the way for advancements in Telehealth services, which have currently become a significant component of the healthcare industry to cope with the social distancing and lockdown measures, people adapted to telehealth services to avail doctor expertise.</p>,\n",
       " <p>Telehealth’s global market size is projected to grow to $55.6 billion by 2025 from $25.4 billion in 2020 at a CAGR of 16.9% during the period.  According to the statistics provided by the Medical Council of India, the doctor-patient ratio currently is 1:2000. Such a low doctor-patient ratio results in most of the population without any access to proper healthcare facilities. The budding digital infrastructure covers the gaps created by the lack of quality hospital infrastructure and medical staff, allowing doctors to converse with patients in the far-flung rural areas, through telemedicine.</p>,\n",
       " <p>Telemedicine will be a major contributor to filling the current gaps in the healthcare industry, a some of the factors contributing to its growth are:</p>,\n",
       " <p>As internet connectivity in India is currently growing at a rapid pace of 45% as of 2021, this growth will help in further penetrating the market, thus reaching people in areas lacking healthcare facilities. This would avail quality health care services to the people, allowing for efficient and effective treatment of diseases prevalent in the area.</p>,\n",
       " <p>The rapid growth in Digital infrastructure has led to a booming increase in the number of healthcare startups present in India. These start-ups are dedicated to the development of disease tracking and prevention tools. Since most remote areas do not have proper medical facilities or are unable to afford quality healthcare services, these start-ups have developed tools that enable the in-need patients to connect with far-flung doctors to receive affordable medical advice without incurring huge transportation costs. Start-ups such as Practo and 1 MG provide delivery of medicines that are at times not easily available.</p>,\n",
       " <p>Cloud-based and AI telehealth solutions provide tools for employees and companies. These tools help in understanding the onset of diseases, current analysis of the causal factors of prominent diseases, and the most prevalent diseases in the population. Such tools better analyze the causal factors and develop prominent solutions for prevention, thus helping in better disease control for the organization and country.</p>,\n",
       " <p>Companies such as Tata Digital Health provide cloud-based platforms for storing and understanding patient medical records and prescriptions. These help in understanding the track record of the patient, helping doctors to prescribe suitable medicines for the disease.</p>,\n",
       " <p>The growing advancements in technology have enabled the creation of several wearable technologies which would help in better self-tracking of health. The onset of smart-watches and easily available medical devices has resulted in a better collection of medical data. Such devices would help understand the warning signs of certain medical diseases, analyze the trends in their progress and develop better solutions to prevent them.</p>,\n",
       " <p>With the improvement of medical facilities, the cost of acquiring the facilities is also growing which the majority of the Indian population cannot afford. This issue can be resolved with the advancements of telemedicine which can reduce various expenses like travel for the people which people can utilize in availing better medical practitioners.</p>,\n",
       " <p>The resolution of the Indian government and various state governments to improve the healthcare facilities and make them accessible to the majority of the people has led them to launch various schemes like Ayushman Bharat which provides free health insurance to the bottom 50% of the population, and Mohalla Clinic, the initiative of Delhi government to provide free medical services for everyone.</p>,\n",
       " <p><strong>Limitations:</strong></p>,\n",
       " <p>Lack of accuracy: ln doing online consultations the medical practitioners are not able to observe the patient properly they only have to go by what a patient tells them, which reduces the parameters of consideration for them to provide consultations.</p>,\n",
       " <p>Lack of awareness and trust: Most of the population is not aware of these facilities or some of those are not able to trust the technology enough to avail it.</p>]"
      ]
     },
     "execution_count": 10,
     "metadata": {},
     "output_type": "execute_result"
    }
   ],
   "source": [
    "mydivs"
   ]
  },
  {
   "cell_type": "code",
   "execution_count": 11,
   "id": "913b9f67",
   "metadata": {},
   "outputs": [],
   "source": [
    "#Combined String\n",
    "all_html = myhead.text\n",
    "for i in mydivs:\n",
    "    all_html += '\\n'\n",
    "    all_html += i.text"
   ]
  },
  {
   "cell_type": "code",
   "execution_count": 12,
   "id": "fe53884a",
   "metadata": {},
   "outputs": [
    {
     "data": {
      "text/plain": [
       "'Is telehealth the future of healthcare?\\nCovid-19 has paved the way for advancements in Telehealth services, which have currently become a significant component of the healthcare industry to cope with the social distancing and lockdown measures, people adapted to telehealth services to avail doctor expertise.\\nTelehealth’s global market size is projected to grow to $55.6 billion by 2025 from $25.4 billion in 2020 at a CAGR of 16.9% during the period. \\xa0According to the statistics provided by the Medical Council of India, the doctor-patient ratio currently is 1:2000. Such a low doctor-patient ratio results in most of the population without any access to proper healthcare facilities. The budding digital infrastructure covers the gaps created by the lack of quality hospital infrastructure and medical staff, allowing doctors to converse with patients in the far-flung rural areas, through telemedicine.\\nTelemedicine will be a major contributor to filling the current gaps in the healthcare industry, a some of the factors contributing to its growth are:\\nAs internet connectivity in India is currently growing at a rapid pace of 45% as of 2021, this growth will help in further penetrating the market, thus reaching people in areas lacking healthcare facilities. This would avail quality health care services to the people, allowing for efficient and effective treatment of diseases prevalent in the area.\\nThe rapid growth in Digital infrastructure has led to a booming increase in the number of healthcare startups present in India. These start-ups are dedicated to the development of disease tracking and prevention tools. Since most remote areas do not have proper medical facilities or are unable to afford quality healthcare services, these start-ups have developed tools that enable the in-need patients to connect with far-flung doctors to receive affordable medical advice without incurring huge transportation costs. Start-ups such as Practo and 1 MG provide delivery of medicines that are at times not easily available.\\nCloud-based and AI telehealth solutions provide tools for employees and companies. These tools help in understanding the onset of diseases, current analysis of the causal factors of prominent diseases, and the most prevalent diseases in the population. Such tools better analyze the causal factors and develop prominent solutions for prevention, thus helping in better disease control for the organization and country.\\nCompanies such as Tata Digital Health provide cloud-based platforms for storing and understanding patient medical records and prescriptions. These help in understanding the track record of the patient, helping doctors to prescribe suitable medicines for the disease.\\nThe growing advancements in technology have enabled the creation of several wearable technologies which would help in better self-tracking of health. The onset of smart-watches and easily available medical devices has resulted in a better collection of medical data. Such devices would help understand the warning signs of certain medical diseases, analyze the trends in their progress and develop better solutions to prevent them.\\nWith the improvement of medical facilities, the cost of acquiring the facilities is also growing which the majority of the Indian population cannot afford. This issue can be resolved with the advancements of telemedicine which can reduce various expenses like travel for the people which people can utilize in availing better medical practitioners.\\nThe resolution of the Indian government and various state governments to improve the healthcare facilities and make them accessible to the majority of the people has led them to launch various schemes like Ayushman Bharat which provides free health insurance to the bottom 50% of the population, and Mohalla Clinic, the initiative of Delhi government to provide free medical services for everyone.\\nLimitations:\\nLack of accuracy: ln doing online consultations the medical practitioners are not able to observe the patient properly they only have to go by what a patient tells them, which reduces the parameters of consideration for them to provide consultations.\\nLack of awareness and trust: Most of the population is not aware of these facilities or some of those are not able to trust the technology enough to avail it.'"
      ]
     },
     "execution_count": 12,
     "metadata": {},
     "output_type": "execute_result"
    }
   ],
   "source": [
    "all_html"
   ]
  },
  {
   "cell_type": "code",
   "execution_count": 13,
   "id": "9547b700",
   "metadata": {},
   "outputs": [
    {
     "data": {
      "text/plain": [
       "4324"
      ]
     },
     "execution_count": 13,
     "metadata": {},
     "output_type": "execute_result"
    }
   ],
   "source": [
    "#Write to file as Unicode\n",
    "f = open('doc.txt', 'wb')\n",
    "f.write(all_html.encode('utf8'))"
   ]
  },
  {
   "cell_type": "markdown",
   "id": "9ffd6871",
   "metadata": {},
   "source": [
    "### Looping For all URLs"
   ]
  },
  {
   "cell_type": "code",
   "execution_count": 14,
   "id": "e06125f8",
   "metadata": {},
   "outputs": [],
   "source": [
    "header = {'User-Agent' : 'Mozilla/5.0 (X11; Linux x86_64) AppleWebKit/537.36 (KHTML, like Gecko) Chrome/103.0.0.0 Safari/537.36'}"
   ]
  },
  {
   "cell_type": "code",
   "execution_count": 16,
   "id": "c7feac4f",
   "metadata": {
    "scrolled": false
   },
   "outputs": [
    {
     "name": "stdout",
     "output_type": "stream",
     "text": [
      "Fetching URL:  0 https://insights.blackcoffer.com/is-telehealth-the-future-of-healthcare-3/\n",
      "Page Downloaded...\n",
      "Fetching URL:  1 https://insights.blackcoffer.com/how-telehealth-and-telemedicine-helping-people-to-fight-against-covid-19-2/\n",
      "Page Downloaded...\n",
      "Fetching URL:  2 https://insights.blackcoffer.com/is-telemedicine-effective-in-treating-patients/\n",
      "Page Downloaded...\n",
      "Fetching URL:  3 https://insights.blackcoffer.com/is-telehealth-the-future-of-healthcare-2/\n",
      "Page Downloaded...\n",
      "Fetching URL:  4 https://insights.blackcoffer.com/how-people-diverted-to-telehealth-services-and-telemedicine/\n",
      "Page Downloaded...\n",
      "Fetching URL:  5 https://insights.blackcoffer.com/the-future-of-telehealth-services/\n",
      "Page Downloaded...\n",
      "Fetching URL:  6 https://insights.blackcoffer.com/how-telehealth-and-telemedicine-helping-people-to-fight-against-covid-19/\n",
      "Page Downloaded...\n",
      "Fetching URL:  7 https://insights.blackcoffer.com/how-does-metaverse-work-in-the-financial-sector-2/\n",
      "Page Downloaded...\n",
      "Fetching URL:  8 https://insights.blackcoffer.com/the-impact-of-the-metaverse-on-financial-services/\n",
      "Page Downloaded...\n",
      "Fetching URL:  9 https://insights.blackcoffer.com/how-metaverse-and-vr-can-reform-work-culture/\n",
      "Page Downloaded...\n",
      "Fetching URL:  10 https://insights.blackcoffer.com/how-does-metaverse-work-in-the-financial-sector/\n",
      "Page Downloaded...\n",
      "Fetching URL:  11 https://insights.blackcoffer.com/how-metaverse-will-change-your-life/\n",
      "Page Downloaded...\n",
      "Fetching URL:  12 https://insights.blackcoffer.com/the-metaverse-and-its-implications-for-our-digital-future/\n",
      "Page Downloaded...\n",
      "Fetching URL:  13 https://insights.blackcoffer.com/do-all-social-media-is-owned-by-meta/\n",
      "Page Downloaded...\n",
      "Fetching URL:  14 https://insights.blackcoffer.com/how-metaverse-is-shaping-the-future-the-next-big-tech-phenomena/\n",
      "Page Downloaded...\n",
      "Fetching URL:  15 https://insights.blackcoffer.com/what-are-the-challenges-and-acceptance-of-e-learning-during-the-covid-19-for-students-and-teachers-2/\n",
      "Page Downloaded...\n",
      "Fetching URL:  16 https://insights.blackcoffer.com/what-is-the-limitation-of-e-learning-classes/\n",
      "Page Downloaded...\n",
      "Fetching URL:  17 https://insights.blackcoffer.com/what-are-the-challenges-and-acceptance-of-e-learning-during-the-covid-19-for-students-and-teachers/\n",
      "Page Downloaded...\n",
      "Fetching URL:  18 https://insights.blackcoffer.com/problems-faced-by-students-in-online-classes-during-covid-19/\n",
      "Page Downloaded...\n",
      "Fetching URL:  19 https://insights.blackcoffer.com/impact-of-covid-19-on-engineering-and-medical-college-during-this-pandemic-lockdown/\n",
      "Page Downloaded...\n",
      "Fetching URL:  20 https://insights.blackcoffer.com/how-is-login-logout-time-tracking-for-employees-in-office-done-by-ai/\n",
      "Page Downloaded...\n",
      "Fetching URL:  21 https://insights.blackcoffer.com/how-does-ai-help-to-monitor-retail-shelf-watches/\n",
      "Page Downloaded...\n",
      "Fetching URL:  22 https://insights.blackcoffer.com/ai-and-its-impact-on-the-fashion-industry/\n",
      "Page Downloaded...\n",
      "Fetching URL:  23 https://insights.blackcoffer.com/how-do-deep-learning-models-predict-old-and-new-drugs-that-are-successfully-treated-in-healthcare/\n",
      "Page Downloaded...\n",
      "Fetching URL:  24 https://insights.blackcoffer.com/how-artificial-intelligence-can-boost-your-productivity-level/\n",
      "Page Downloaded...\n",
      "Fetching URL:  25 https://insights.blackcoffer.com/how-are-genetic-sequencing-maps-affected-by-deep-learning-and-ai/\n",
      "Page Downloaded...\n",
      "Fetching URL:  26 https://insights.blackcoffer.com/how-is-ai-used-to-solve-traffic-management/\n",
      "Page Downloaded...\n",
      "Fetching URL:  27 https://insights.blackcoffer.com/benefits-of-big-data-in-different-fields/\n",
      "Page Downloaded...\n",
      "Fetching URL:  28 https://insights.blackcoffer.com/how-big-data-will-impact-the-future-of-business/\n",
      "Page Downloaded...\n",
      "Fetching URL:  29 https://insights.blackcoffer.com/how-will-ai-make-decisions-in-tomorrows-wars/\n",
      "Page Downloaded...\n",
      "Fetching URL:  30 https://insights.blackcoffer.com/which-one-is-better-ai-or-big-data/\n",
      "Page Downloaded...\n",
      "Fetching URL:  31 https://insights.blackcoffer.com/how-robots-can-help-in-e-learning-platforms/\n",
      "Page Downloaded...\n",
      "Fetching URL:  32 https://insights.blackcoffer.com/how-does-big-data-help-in-finance-and-the-growth-of-large-firms/\n",
      "Page Downloaded...\n",
      "Fetching URL:  33 https://insights.blackcoffer.com/future-of-work-robot-ai-and-automation/\n",
      "Page Downloaded...\n",
      "Fetching URL:  34 https://insights.blackcoffer.com/how-ai-will-help-the-defense-power-of-a-country/\n",
      "Page Downloaded...\n",
      "Fetching URL:  35 https://insights.blackcoffer.com/future-of-ai-and-machine-roles-in-the-medical-sector/\n",
      "Page Downloaded...\n",
      "Fetching URL:  36 https://insights.blackcoffer.com/ai-in-healthcare-to-improve-patient-outcomes/\n",
      "Page Downloaded...\n",
      "Fetching URL:  37 https://insights.blackcoffer.com/what-if-the-creation-is-taking-over-the-creator/\n",
      "Page Downloaded...\n",
      "Fetching URL:  38 https://insights.blackcoffer.com/what-jobs-will-robots-take-from-humans-in-the-future/\n",
      "Page Downloaded...\n",
      "Fetching URL:  39 https://insights.blackcoffer.com/will-machine-replace-the-human-in-the-future-of-work/\n",
      "Page Downloaded...\n",
      "Fetching URL:  40 https://insights.blackcoffer.com/will-ai-replace-us-or-work-with-us/\n",
      "Page Downloaded...\n",
      "Fetching URL:  41 https://insights.blackcoffer.com/man-and-machines-together-machines-are-more-diligent-than-humans-blackcoffe/\n",
      "Page Downloaded...\n",
      "Fetching URL:  42 https://insights.blackcoffer.com/in-future-or-in-upcoming-years-humans-and-machines-are-going-to-work-together-in-every-field-of-work/\n",
      "Page Downloaded...\n",
      "Fetching URL:  43 https://insights.blackcoffer.com/how-neural-networks-can-be-applied-in-various-areas-in-the-future/\n",
      "Page Downloaded...\n",
      "Fetching URL:  44 https://insights.blackcoffer.com/how-machine-learning-will-affect-your-business/\n",
      "Page Downloaded...\n",
      "Fetching URL:  45 https://insights.blackcoffer.com/deep-learning-impact-on-areas-of-e-learning/\n",
      "Page Downloaded...\n",
      "Fetching URL:  46 https://insights.blackcoffer.com/how-to-protect-future-data-and-its-privacy-blackcoffer/\n",
      "Page Downloaded...\n",
      "Fetching URL:  47 https://insights.blackcoffer.com/how-machines-ai-automations-and-robo-human-are-effective-in-finance-and-banking/\n",
      "Page Downloaded...\n",
      "Fetching URL:  48 https://insights.blackcoffer.com/ai-human-robotics-machine-future-planet-blackcoffer-thinking-jobs-workplace/\n",
      "Page Downloaded...\n",
      "Fetching URL:  49 https://insights.blackcoffer.com/how-ai-will-change-the-world-blackcoffer/\n",
      "Page Downloaded...\n",
      "Fetching URL:  50 https://insights.blackcoffer.com/future-of-work-how-ai-has-entered-the-workplace/\n",
      "Page Downloaded...\n",
      "Fetching URL:  51 https://insights.blackcoffer.com/ai-tool-alexa-google-assistant-finance-banking-tool-future/\n",
      "Page Downloaded...\n",
      "Fetching URL:  52 https://insights.blackcoffer.com/ai-healthcare-revolution-ml-technology-algorithm-google-analytics-industrialrevolution/\n",
      "Page Downloaded...\n",
      "Fetching URL:  53 https://insights.blackcoffer.com/all-you-need-to-know-about-online-marketing/\n",
      "Page Downloaded...\n",
      "Fetching URL:  54 https://insights.blackcoffer.com/evolution-of-advertising-industry/\n",
      "Page Downloaded...\n",
      "Fetching URL:  55 https://insights.blackcoffer.com/how-data-analytics-can-help-your-business-respond-to-the-impact-of-covid-19/\n",
      "Page Downloaded...\n",
      "Fetching URL:  56 https://insights.blackcoffer.com/covid-19-environmental-impact-for-the-future/\n",
      "Page Downloaded...\n",
      "Fetching URL:  57 https://insights.blackcoffer.com/environmental-impact-of-the-covid-19-pandemic-lesson-for-the-future/\n",
      "Page Downloaded...\n",
      "Fetching URL:  58 https://insights.blackcoffer.com/how-data-analytics-and-ai-are-used-to-halt-the-covid-19-pandemic/\n",
      "Page Downloaded...\n",
      "Fetching URL:  59 https://insights.blackcoffer.com/difference-between-artificial-intelligence-machine-learning-statistics-and-data-mining/\n",
      "Page Downloaded...\n",
      "Fetching URL:  60 https://insights.blackcoffer.com/how-python-became-the-first-choice-for-data-science/\n",
      "Page Downloaded...\n",
      "Fetching URL:  61 https://insights.blackcoffer.com/how-google-fit-measure-heart-and-respiratory-rates-using-a-phone/\n",
      "Page Downloaded...\n",
      "Fetching URL:  62 https://insights.blackcoffer.com/what-is-the-future-of-mobile-apps/\n",
      "Page Downloaded...\n",
      "Fetching URL:  63 https://insights.blackcoffer.com/impact-of-ai-in-health-and-medicine/\n",
      "Page Downloaded...\n",
      "Fetching URL:  64 https://insights.blackcoffer.com/telemedicine-what-patients-like-and-dislike-about-it/\n"
     ]
    },
    {
     "name": "stdout",
     "output_type": "stream",
     "text": [
      "Page Downloaded...\n",
      "Fetching URL:  65 https://insights.blackcoffer.com/how-we-forecast-future-technologies/\n",
      "Page Downloaded...\n",
      "Fetching URL:  66 https://insights.blackcoffer.com/can-robots-tackle-late-life-loneliness/\n",
      "Page Downloaded...\n",
      "Fetching URL:  67 https://insights.blackcoffer.com/embedding-care-robots-into-society-socio-technical-considerations/\n",
      "Page Downloaded...\n",
      "Fetching URL:  68 https://insights.blackcoffer.com/management-challenges-for-future-digitalization-of-healthcare-services/\n",
      "Page Downloaded...\n",
      "Fetching URL:  69 https://insights.blackcoffer.com/are-we-any-closer-to-preventing-a-nuclear-holocaust/\n",
      "Page Downloaded...\n",
      "Fetching URL:  70 https://insights.blackcoffer.com/will-technology-eliminate-the-need-for-animal-testing-in-drug-development/\n",
      "Page Downloaded...\n",
      "Fetching URL:  71 https://insights.blackcoffer.com/will-we-ever-understand-the-nature-of-consciousness/\n",
      "Page Downloaded...\n",
      "Fetching URL:  72 https://insights.blackcoffer.com/will-we-ever-colonize-outer-space/\n",
      "Page Downloaded...\n",
      "Fetching URL:  73 https://insights.blackcoffer.com/what-is-the-chance-homo-sapiens-will-survive-for-the-next-500-years/\n",
      "Page Downloaded...\n",
      "Fetching URL:  74 https://insights.blackcoffer.com/why-does-your-business-need-a-chatbot/\n",
      "Page Downloaded...\n",
      "Fetching URL:  75 https://insights.blackcoffer.com/how-you-lead-a-project-or-a-team-without-any-technical-expertise/\n",
      "Page Downloaded...\n",
      "Fetching URL:  76 https://insights.blackcoffer.com/can-you-be-great-leader-without-technical-expertise/\n",
      "Page Downloaded...\n",
      "Fetching URL:  77 https://insights.blackcoffer.com/how-does-artificial-intelligence-affect-the-environment/\n",
      "Page Downloaded...\n",
      "Fetching URL:  78 https://insights.blackcoffer.com/how-to-overcome-your-fear-of-making-mistakes-2/\n",
      "Page Downloaded...\n",
      "Fetching URL:  79 https://insights.blackcoffer.com/is-perfection-the-greatest-enemy-of-productivity/\n",
      "Page Downloaded...\n",
      "Fetching URL:  80 https://insights.blackcoffer.com/global-financial-crisis-2008-causes-effects-and-its-solution/\n",
      "Page Downloaded...\n",
      "Fetching URL:  81 https://insights.blackcoffer.com/gender-diversity-and-equality-in-the-tech-industry/\n",
      "Page Downloaded...\n",
      "Fetching URL:  82 https://insights.blackcoffer.com/how-to-overcome-your-fear-of-making-mistakes/\n",
      "Page Downloaded...\n",
      "Fetching URL:  83 https://insights.blackcoffer.com/how-small-business-can-survive-the-coronavirus-crisis/\n",
      "Page Downloaded...\n",
      "Fetching URL:  84 https://insights.blackcoffer.com/impacts-of-covid-19-on-vegetable-vendors-and-food-stalls/\n",
      "Page Downloaded...\n",
      "Fetching URL:  85 https://insights.blackcoffer.com/impacts-of-covid-19-on-vegetable-vendors/\n",
      "Page Downloaded...\n",
      "Fetching URL:  86 https://insights.blackcoffer.com/impact-of-covid-19-pandemic-on-tourism-aviation-industries/\n",
      "Page Downloaded...\n",
      "Fetching URL:  87 https://insights.blackcoffer.com/impact-of-covid-19-pandemic-on-sports-events-around-the-world/\n",
      "Page Downloaded...\n",
      "Fetching URL:  88 https://insights.blackcoffer.com/changing-landscape-and-emerging-trends-in-the-indian-it-ites-industry/\n",
      "Page Downloaded...\n",
      "Fetching URL:  89 https://insights.blackcoffer.com/online-gaming-adolescent-online-gaming-effects-demotivated-depression-musculoskeletal-and-psychosomatic-symptoms/\n",
      "Page Downloaded...\n",
      "Fetching URL:  90 https://insights.blackcoffer.com/human-rights-outlook/\n",
      "Page Downloaded...\n",
      "Fetching URL:  91 https://insights.blackcoffer.com/how-voice-search-makes-your-business-a-successful-business/\n",
      "Page Downloaded...\n",
      "Fetching URL:  92 https://insights.blackcoffer.com/how-the-covid-19-crisis-is-redefining-jobs-and-services/\n",
      "Page Downloaded...\n",
      "Fetching URL:  93 https://insights.blackcoffer.com/how-to-increase-social-media-engagement-for-marketers/\n",
      "Page Downloaded...\n",
      "Fetching URL:  94 https://insights.blackcoffer.com/impacts-of-covid-19-on-streets-sides-food-stalls/\n",
      "Page Downloaded...\n",
      "Fetching URL:  95 https://insights.blackcoffer.com/coronavirus-impact-on-energy-markets-2/\n",
      "Page Downloaded...\n",
      "Fetching URL:  96 https://insights.blackcoffer.com/coronavirus-impact-on-the-hospitality-industry-5/\n",
      "Page Downloaded...\n",
      "Fetching URL:  97 https://insights.blackcoffer.com/lessons-from-the-past-some-key-learnings-relevant-to-the-coronavirus-crisis-4/\n",
      "Page Downloaded...\n",
      "Fetching URL:  98 https://insights.blackcoffer.com/estimating-the-impact-of-covid-19-on-the-world-of-work-2/\n",
      "Page Downloaded...\n",
      "Fetching URL:  99 https://insights.blackcoffer.com/estimating-the-impact-of-covid-19-on-the-world-of-work-3/\n",
      "Page Downloaded...\n",
      "Fetching URL:  100 https://insights.blackcoffer.com/travel-and-tourism-outlook/\n",
      "Page Downloaded...\n",
      "Fetching URL:  101 https://insights.blackcoffer.com/gaming-disorder-and-effects-of-gaming-on-health/\n",
      "Page Downloaded...\n",
      "Fetching URL:  102 https://insights.blackcoffer.com/what-is-the-repercussion-of-the-environment-due-to-the-covid-19-pandemic-situation/\n",
      "Page Downloaded...\n",
      "Fetching URL:  103 https://insights.blackcoffer.com/what-is-the-repercussion-of-the-environment-due-to-the-covid-19-pandemic-situation-2/\n",
      "Page Downloaded...\n",
      "Fetching URL:  104 https://insights.blackcoffer.com/impact-of-covid-19-pandemic-on-office-space-and-co-working-industries/\n",
      "Page Downloaded...\n",
      "Fetching URL:  105 https://insights.blackcoffer.com/contribution-of-handicrafts-visual-arts-literature-in-the-indian-economy/\n",
      "Page Downloaded...\n",
      "Fetching URL:  106 https://insights.blackcoffer.com/how-covid-19-is-impacting-payment-preferences/\n",
      "Page Downloaded...\n",
      "Fetching URL:  107 https://insights.blackcoffer.com/how-will-covid-19-affect-the-world-of-work-2/\n",
      "Page Downloaded...\n",
      "Fetching URL:  108 https://insights.blackcoffer.com/lessons-from-the-past-some-key-learnings-relevant-to-the-coronavirus-crisis/\n",
      "Page Downloaded...\n",
      "Fetching URL:  109 https://insights.blackcoffer.com/covid-19-how-have-countries-been-responding/\n",
      "Page Downloaded...\n",
      "Fetching URL:  110 https://insights.blackcoffer.com/coronavirus-impact-on-the-hospitality-industry-2/\n",
      "Page Downloaded...\n",
      "Fetching URL:  111 https://insights.blackcoffer.com/how-will-covid-19-affect-the-world-of-work-3/\n",
      "Page Downloaded...\n",
      "Fetching URL:  112 https://insights.blackcoffer.com/coronavirus-impact-on-the-hospitality-industry-3/\n",
      "Page Downloaded...\n",
      "Fetching URL:  113 https://insights.blackcoffer.com/estimating-the-impact-of-covid-19-on-the-world-of-work/\n",
      "Page Downloaded...\n",
      "Fetching URL:  114 https://insights.blackcoffer.com/covid-19-how-have-countries-been-responding-2/\n",
      "Page Downloaded...\n",
      "Fetching URL:  115 https://insights.blackcoffer.com/how-will-covid-19-affect-the-world-of-work-4/\n",
      "Page Downloaded...\n",
      "Fetching URL:  116 https://insights.blackcoffer.com/lessons-from-the-past-some-key-learnings-relevant-to-the-coronavirus-crisis-2/\n",
      "Page Downloaded...\n",
      "Fetching URL:  117 https://insights.blackcoffer.com/lessons-from-the-past-some-key-learnings-relevant-to-the-coronavirus-crisis-3/\n",
      "Page Downloaded...\n",
      "Fetching URL:  118 https://insights.blackcoffer.com/coronavirus-impact-on-the-hospitality-industry-4/\n",
      "Page Downloaded...\n",
      "Fetching URL:  119 https://insights.blackcoffer.com/why-scams-like-nirav-modi-happen-with-indian-banks/\n",
      "Page Downloaded...\n",
      "Fetching URL:  120 https://insights.blackcoffer.com/impact-of-covid-19-on-the-global-economy/\n",
      "Page Downloaded...\n",
      "Fetching URL:  121 https://insights.blackcoffer.com/impact-of-covid-19coronavirus-on-the-indian-economy-2/\n",
      "Page Downloaded...\n",
      "Fetching URL:  122 https://insights.blackcoffer.com/impact-of-covid-19-on-the-global-economy-2/\n",
      "Page Downloaded...\n",
      "Fetching URL:  123 https://insights.blackcoffer.com/impact-of-covid-19-coronavirus-on-the-indian-economy-3/\n",
      "Page Downloaded...\n",
      "Fetching URL:  124 https://insights.blackcoffer.com/should-celebrities-be-allowed-to-join-politics/\n",
      "Page Downloaded...\n",
      "Fetching URL:  125 https://insights.blackcoffer.com/how-prepared-is-india-to-tackle-a-possible-covid-19-outbreak/\n",
      "Page Downloaded...\n",
      "Fetching URL:  126 https://insights.blackcoffer.com/how-will-covid-19-affect-the-world-of-work/\n",
      "Page Downloaded...\n",
      "Fetching URL:  127 https://insights.blackcoffer.com/controversy-as-a-marketing-strategy/\n",
      "Page Downloaded...\n",
      "Fetching URL:  128 https://insights.blackcoffer.com/coronavirus-impact-on-the-hospitality-industry/\n",
      "Page Downloaded...\n",
      "Fetching URL:  129 https://insights.blackcoffer.com/coronavirus-impact-on-energy-markets/\n",
      "Page Downloaded...\n",
      "Fetching URL:  130 https://insights.blackcoffer.com/what-are-the-key-policies-that-will-mitigate-the-impacts-of-covid-19-on-the-world-of-work/\n"
     ]
    },
    {
     "name": "stdout",
     "output_type": "stream",
     "text": [
      "Page Downloaded...\n",
      "Fetching URL:  131 https://insights.blackcoffer.com/marketing-drives-results-with-a-focus-on-problems/\n",
      "Page Downloaded...\n",
      "Fetching URL:  132 https://insights.blackcoffer.com/continued-demand-for-sustainability/\n",
      "Page Downloaded...\n",
      "Fetching URL:  133 https://insights.blackcoffer.com/coronavirus-disease-covid-19-effect-the-impact-and-role-of-mass-media-during-the-pandemic/\n",
      "Page Downloaded...\n",
      "Fetching URL:  134 https://insights.blackcoffer.com/should-people-wear-fabric-gloves-seeking-evidence-regarding-the-differential-transfer-of-covid-19-or-coronaviruses-generally-between-surfaces/\n",
      "Page Downloaded...\n",
      "Fetching URL:  135 https://insights.blackcoffer.com/why-is-there-a-severe-immunological-and-inflammatory-explosion-in-those-affected-by-sarms-covid-19/\n",
      "Page Downloaded...\n",
      "Fetching URL:  136 https://insights.blackcoffer.com/what-do-you-think-is-the-lesson-or-lessons-to-be-learned-with-covid-19/\n",
      "Page Downloaded...\n",
      "Fetching URL:  137 https://insights.blackcoffer.com/coronavirus-the-unexpected-challenge-for-the-european-union/\n",
      "Page Downloaded...\n",
      "Fetching URL:  138 https://insights.blackcoffer.com/industrial-revolution-4-0-pros-and-cons/\n",
      "Page Downloaded...\n",
      "Fetching URL:  139 https://insights.blackcoffer.com/impact-of-covid-19-coronavirus-on-the-indian-economy/\n",
      "Page Downloaded...\n",
      "Fetching URL:  140 https://insights.blackcoffer.com/impact-of-covid-19-coronavirus-on-the-indian-economy-2/\n",
      "Page Downloaded...\n",
      "Fetching URL:  141 https://insights.blackcoffer.com/impact-of-covid-19coronavirus-on-the-indian-economy/\n",
      "Page Downloaded...\n",
      "Fetching URL:  142 https://insights.blackcoffer.com/impact-of-covid-19-coronavirus-on-the-global-economy/\n",
      "Page Downloaded...\n",
      "Fetching URL:  143 https://insights.blackcoffer.com/ensuring-growth-through-insurance-technology/\n",
      "Page Downloaded...\n",
      "Fetching URL:  144 https://insights.blackcoffer.com/blockchain-in-fintech/\n",
      "Page Downloaded...\n",
      "Fetching URL:  145 https://insights.blackcoffer.com/blockchain-for-payments/\n",
      "Page Downloaded...\n",
      "Fetching URL:  146 https://insights.blackcoffer.com/the-future-of-investing/\n",
      "Page Downloaded...\n",
      "Fetching URL:  147 https://insights.blackcoffer.com/big-data-analytics-in-healthcare/\n",
      "Page Downloaded...\n",
      "Fetching URL:  148 https://insights.blackcoffer.com/business-analytics-in-the-healthcare-industry/\n",
      "Page Downloaded...\n",
      "Fetching URL:  149 https://insights.blackcoffer.com/challenges-and-opportunities-of-big-data-in-healthcare/\n",
      "Page Downloaded...\n"
     ]
    }
   ],
   "source": [
    "for i in urls.iterrows():\n",
    "    print(\"Fetching URL: \",i[0],i[1]['URL'])\n",
    "    page = requests.get(i[1]['URL'],headers=header,verify=False)\n",
    "    soup = BeautifulSoup(page.text)\n",
    "    print(\"Page Downloaded...\")\n",
    "    head = soup.find(\"h1\",{\"class\": \"entry-title\"})\n",
    "    content = soup.find(\"div\", {\"class\": \"td-post-content\"}).findAll('p')\n",
    "    \n",
    "    doc = head.text\n",
    "    for j in content:\n",
    "        doc += '\\n'\n",
    "        doc += j.text\n",
    "    \n",
    "    f = open('./scrap_files/'+str(i[1]['URL_ID']), 'wb')\n",
    "    f.write(doc.encode('utf8'))"
   ]
  },
  {
   "cell_type": "code",
   "execution_count": 17,
   "id": "3133d049",
   "metadata": {},
   "outputs": [],
   "source": [
    "#Downloaded all the webpages, Scraped and saved in notepad"
   ]
  },
  {
   "cell_type": "code",
   "execution_count": null,
   "id": "8f41a8ab",
   "metadata": {},
   "outputs": [],
   "source": []
  }
 ],
 "metadata": {
  "kernelspec": {
   "display_name": "Python 3 (ipykernel)",
   "language": "python",
   "name": "python3"
  },
  "language_info": {
   "codemirror_mode": {
    "name": "ipython",
    "version": 3
   },
   "file_extension": ".py",
   "mimetype": "text/x-python",
   "name": "python",
   "nbconvert_exporter": "python",
   "pygments_lexer": "ipython3",
   "version": "3.10.5"
  }
 },
 "nbformat": 4,
 "nbformat_minor": 5
}
